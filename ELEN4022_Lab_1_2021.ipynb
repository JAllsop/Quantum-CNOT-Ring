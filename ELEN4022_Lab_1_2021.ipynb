{
 "cells": [
  {
   "cell_type": "markdown",
   "id": "loved-counter",
   "metadata": {},
   "source": [
    "# School of Electrical and Information Engineering\n",
    "### University of the Witwatersrand, Johannesburg\n",
    "### ELEN4022 — Full Stack Quantum Computing"
   ]
  },
  {
   "cell_type": "markdown",
   "id": "annual-straight",
   "metadata": {},
   "source": [
    "# Outcome\n",
    "This is an individual laboratory exercise. You are expected to familiarise yourself, learn and under-stand the use of the following:\n",
    "\n",
    "1. A basic understanding of circuit simulation in Qiskit\n",
    "2. A thorough understanding of the basic linear algebraic tools used in Quantum Computing\n",
    "3. Programming idiomatic Python in a Jupyter environment\n",
    "4. Reporting findings within your notebook using TeX and Markdown features\n",
    "5. How to use git with notebooks"
   ]
  },
  {
   "cell_type": "markdown",
   "id": "dramatic-adrian",
   "metadata": {},
   "source": [
    "# Work Schedule\n",
    "You are expected to have worked through the Getting Started with Qiskit notebook tutorial and have a basic grasp\n",
    "of the mathematical representation of Quantum Computation (https://cnot.io/contents/ background and quantum computing\n",
    "is a good start)."
   ]
  },
  {
   "cell_type": "markdown",
   "id": "aggregate-processor",
   "metadata": {},
   "source": [
    "### Problem Description: Simulate the unitary of a CNOT Ring to validate an algebraically calculated result of the same structure.\n",
    "\n",
    "The CNOT Ring pictured for a 5 qubit system below are a chain of CNOT gates that connect every qubit to its neighbouring\n",
    "qubit where the last qubit neighbours the first (see https://pennylane.readthedocs.io/en/stable/code/api/pennylane.templates.layers.BasicEntanglerLayers.html). This circuit template finds application in a suite of quantum circuits known as variational quantum algorithms."
   ]
  },
  {
   "cell_type": "code",
   "execution_count": 1,
   "id": "overall-selection",
   "metadata": {},
   "outputs": [],
   "source": [
    "%matplotlib inline\n",
    "# Importing standard Qiskit libraries\n",
    "from qiskit import QuantumCircuit, execute, Aer, IBMQ\n",
    "from qiskit.compiler import transpile, assemble\n",
    "from qiskit.tools.jupyter import *\n",
    "from qiskit.visualization import *\n",
    "from ibm_quantum_widgets import *\n",
    "\n",
    "# Loading your IBM Q account(s)\n",
    "#provider = IBMQ.load_account()"
   ]
  },
  {
   "cell_type": "markdown",
   "id": "prime-affect",
   "metadata": {},
   "source": [
    "```python\n",
    "N_W = 5\n",
    "circ = QuantumCircuit(N_W)\n",
    "circ = BasicEntangler(circ)\n",
    "circ.draw(output='mpl',plot_barriers=True)\n",
    "```"
   ]
  },
  {
   "cell_type": "markdown",
   "id": "demanding-grammar",
   "metadata": {},
   "source": [
    "<img src=\"data:image/png;base64,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\"/>"
   ]
  },
  {
   "cell_type": "markdown",
   "id": "loose-biotechnology",
   "metadata": {},
   "source": [
    "The final goal is to be able to provide a linear algebraic equation that exactly simulates the result of the unitary of an \n",
    "arbitary sized CNOT Ring and confirm this by using a Qiskit circuit model simulation."
   ]
  },
  {
   "cell_type": "markdown",
   "id": "celtic-rough",
   "metadata": {},
   "source": [
    "Python natively supports complex number manipulation as well as unicode variables which could be used to make your code \n",
    "align more closely to the standard mathematical notation. Below shows some standard complex manipulation. Recall\n",
    "\n",
    "$$r = |w| = u + jv =\\sqrt{u^2+v^2}.$$\n",
    "and $$z = r e^{j \\varphi}$$\n",
    "and $$\\varphi = \\arg (x+jy) = \\begin{cases}\n",
    "   2 \\arctan\\left(\\dfrac{y}{\\sqrt{x^2 + y^2} + x}\\right) &\\text{if } x > 0 \\text{ or } y \\neq 0, \\\\\n",
    "   \\pi &\\text{if } x < 0 \\text{ and } y = 0, \\\\\n",
    "   \\text{undefined} &\\text{if } x = 0 \\text{ and } y = 0.\n",
    " \\end{cases}$$"
   ]
  },
  {
   "cell_type": "code",
   "execution_count": 2,
   "id": "champion-surprise",
   "metadata": {},
   "outputs": [],
   "source": [
    "# Importing standard Python libraries\n",
    "import numpy as np\n",
    "import math\n",
    "# A suggested library for the linear algebra task\n",
    "from functools import reduce\n",
    "# For purposes of visualisation in this specific lab\n",
    "np.set_printoptions(precision=2, suppress=True)"
   ]
  },
  {
   "cell_type": "code",
   "execution_count": 3,
   "id": "stone-aerospace",
   "metadata": {},
   "outputs": [
    {
     "name": "stdout",
     "output_type": "stream",
     "text": [
      "w = (2.3+5.1j)\n",
      "|2.3+5.1j| = 5.59\n"
     ]
    },
    {
     "data": {
      "text/plain": [
       "(2.3+5.1j)"
      ]
     },
     "execution_count": 3,
     "metadata": {},
     "output_type": "execute_result"
    }
   ],
   "source": [
    "# Complex numbers\n",
    "w = 2.3 + 5.1j\n",
    "print(f'w = {w}')\n",
    "print(f'|2.3+5.1j| = {np.round(abs(w), 2)}')\n",
    "\n",
    "r = abs(w)\n",
    "φ = np.arctan2(w.imag, w.real)\n",
    "z = r*np.exp(1j*φ)\n",
    "z"
   ]
  },
  {
   "cell_type": "markdown",
   "id": "sealed-primary",
   "metadata": {},
   "source": [
    "Common matrix and vector algebra for quantum gates are also easily defined consider:\n",
    "\n",
    "$$HH^{\\dagger }=I$$\n",
    "\n",
    "and\n",
    "\n",
    "$$\\bigotimes_1^2 H = H \\otimes H = \\frac{1}{\\sqrt{2}} \\begin{bmatrix} 1 & 1 \\\\ 1 & -1 \\end{bmatrix} \\otimes \\frac{1}{\\sqrt{2}} \\begin{bmatrix} 1 & 1 \\\\ 1 & -1 \\end{bmatrix} = \\frac{1}{2} \\begin{bmatrix} 1 & 1 & 1 & 1 \\\\ 1 & -1 & 1 & -1 \\\\ 1 & 1 & -1 & -1 \\\\ 1 & -1 & -1 & 1 \\end{bmatrix}$$\n",
    "\n",
    "and\n",
    "\n",
    "$$\\bigotimes_1^2 H |00\\rangle = \\frac{1}{2} \\begin{bmatrix} 1 & 1 & 1 & 1 \\\\ 1 & -1 & 1 & -1 \\\\ 1 & 1 & -1 & -1 \\\\ 1 & -1 & -1 & 1 \\end{bmatrix} \\begin{bmatrix} 1 \\\\ 0 \\\\ 0 \\\\ 0 \\end{bmatrix} = \\frac{1}{2} \\begin{bmatrix} 1 \\\\ 1 \\\\ 1 \\\\ 1 \\end{bmatrix} = \\frac{1}{2} |00\\rangle + \\frac{1}{2} |01\\rangle +\\frac{1}{2} |10\\rangle +\\frac{1}{2} |11\\rangle = \\frac{|00\\rangle + |01\\rangle + |10\\rangle + |11\\rangle}{2}$$\n",
    "    \n"
   ]
  },
  {
   "cell_type": "code",
   "execution_count": 4,
   "id": "smart-walnut",
   "metadata": {
    "scrolled": true
   },
   "outputs": [
    {
     "name": "stdout",
     "output_type": "stream",
     "text": [
      "HH† = |H><H| = \n",
      "[[ 1. -0.]\n",
      " [-0.  1.]]\n",
      "\n",
      "H⊗H = \n",
      "[[ 0.5  0.5  0.5  0.5]\n",
      " [ 0.5 -0.5  0.5 -0.5]\n",
      " [ 0.5  0.5 -0.5 -0.5]\n",
      " [ 0.5 -0.5 -0.5  0.5]]\n",
      "\n",
      "H|00> = \n",
      "[0.5 0.5 0.5 0.5]\n",
      "\n"
     ]
    }
   ],
   "source": [
    "H = 1/math.sqrt(2)*np.array([[1, 1], [1, -1]])\n",
    "print(f'HH† = |H><H| = \\n{H @ H.T.conj()}\\n')\n",
    "\n",
    "H2 = np.kron(H, H)\n",
    "print(f'H⊗H = \\n{H2}\\n')\n",
    "\n",
    "e1 = np.array([1, 0])\n",
    "ket00 = np.kron(e1, e1)\n",
    "print(f'H|00> = \\n{H2@ket00}\\n')"
   ]
  },
  {
   "cell_type": "markdown",
   "id": "everyday-mediterranean",
   "metadata": {},
   "source": [
    "Idiomatic python usually has flatter and more terse code blocks than for C++\n",
    "\n",
    "```cpp\n",
    "std::vector<int> first_three_multiples(int num)\n",
    "{\n",
    "    unsigned short n_elems = 3;\n",
    "    std::vector<int> v;\n",
    "    for (int i = 0; i < n_elems; i++)\n",
    "    {\n",
    "        v.push_back((i+1)*num);\n",
    "    }\n",
    "    return v;\n",
    "}\n",
    "```\n",
    "\n",
    "The above may for example be written as\n",
    "\n",
    "```python\n",
    "_ = lambda num:[num*_ for _ in (1,2,3)]\n",
    "_(6)\n",
    "```\n",
    "[6, 12, 18]"
   ]
  },
  {
   "cell_type": "markdown",
   "id": "requested-vector",
   "metadata": {},
   "source": [
    "Think of a way to make the linear algebra managable and scalable.\n",
    "Think of a way to make the comparison between the linear algebra result and the simulated result.\n",
    "\n",
    "<b>Hint: Think of alternative ways to represent gates to make the algebra easier.</b>"
   ]
  },
  {
   "cell_type": "markdown",
   "id": "brazilian-thesis",
   "metadata": {},
   "source": [
    "# Deliverables\n",
    "- A Jupyter lab-report concatenated to the brief\n",
    "- A function or class that creates the CNOT Ring for 5 and 10 wires\n",
    "- The linear algebra for the system of 5 and 10 wires\n",
    "- Document what you are doing in the blocks in markdown as you would with a LaTeX report\n",
    "- Comment on the approach taken to mathematically represent the circuit\n",
    "- Comment on the comparison of the results\n",
    "- Your code in the git repository in the Github Organisation\n",
    "\n",
    "ELEN4022 Laboratory Exercise 1 — 2021 — Version 1.0"
   ]
  },
  {
   "cell_type": "markdown",
   "id": "a2aeb306",
   "metadata": {},
   "source": [
    "# UNITARY SIMULATOR FOR CNOT RING"
   ]
  },
  {
   "cell_type": "code",
   "execution_count": 5,
   "id": "b4fa2591",
   "metadata": {},
   "outputs": [],
   "source": [
    "from qiskit_textbook.tools import array_to_latex"
   ]
  },
  {
   "cell_type": "markdown",
   "id": "fa5320da",
   "metadata": {},
   "source": [
    "Commonly Used Unitary Matrices:"
   ]
  },
  {
   "cell_type": "code",
   "execution_count": 6,
   "id": "1848d515",
   "metadata": {},
   "outputs": [
    {
     "data": {
      "text/latex": [
       "$\\displaystyle \n",
       "\\text{Second Order Identity = } \\begin{bmatrix}\n",
       "1 & 0  \\\\\n",
       "0 & 1  \\\\\n",
       "\\end{bmatrix}\n",
       "$$\n",
       "$"
      ],
      "text/plain": [
       "<IPython.core.display.Math object>"
      ]
     },
     "metadata": {},
     "output_type": "display_data"
    }
   ],
   "source": [
    "I = np.identity(2, dtype = float)\n",
    "array_to_latex(I, pretext=\"\\\\text{Second Order Identity = } \")"
   ]
  },
  {
   "cell_type": "code",
   "execution_count": 7,
   "id": "d39ebde2",
   "metadata": {},
   "outputs": [
    {
     "data": {
      "text/latex": [
       "$\\displaystyle \n",
       "\\text{X Gate = } \\begin{bmatrix}\n",
       "0 & 1  \\\\\n",
       "1 & 0  \\\\\n",
       "\\end{bmatrix}\n",
       "$$\n",
       "$"
      ],
      "text/plain": [
       "<IPython.core.display.Math object>"
      ]
     },
     "metadata": {},
     "output_type": "display_data"
    }
   ],
   "source": [
    "X = [[0, 1],\n",
    "     [1, 0]]\n",
    "array_to_latex(X, pretext=\"\\\\text{X Gate = } \")"
   ]
  },
  {
   "cell_type": "code",
   "execution_count": 8,
   "id": "f922ead7",
   "metadata": {},
   "outputs": [
    {
     "data": {
      "text/latex": [
       "$\\displaystyle \n",
       "\\text{CNOT Gate = } \\begin{bmatrix}\n",
       "1 & 0 & 0 & 0  \\\\\n",
       "0 & 0 & 0 & 1  \\\\\n",
       "0 & 0 & 1 & 0  \\\\\n",
       "0 & 1 & 0 & 0  \\\\\n",
       "\\end{bmatrix}\n",
       "$$\n",
       "$"
      ],
      "text/plain": [
       "<IPython.core.display.Math object>"
      ]
     },
     "metadata": {},
     "output_type": "display_data"
    }
   ],
   "source": [
    "Cx = [[1.0, 0.0, 0.0, 0.0],\n",
    "      [0.0, 0.0, 0.0, 1.0],\n",
    "      [0.0, 0.0, 1.0, 0.0],\n",
    "      [0.0, 1.0, 0.0, 0.0]]\n",
    "array_to_latex(Cx, pretext=\"\\\\text{CNOT Gate = } \")"
   ]
  },
  {
   "cell_type": "markdown",
   "id": "ce6333b0",
   "metadata": {},
   "source": [
    "(**NOTE** the CNOT gate is different to the standard form as Qiskit's convention for Most and Least Signficant bit is the opposite of the widely held convention)"
   ]
  },
  {
   "cell_type": "markdown",
   "id": "4dcb23a0",
   "metadata": {},
   "source": [
    "# METHOD\n",
    "Unitary Calculations for Quantum circuits follow a standard method:\n",
    "\n",
    "Each wire-adjacent componenent is grouped together in a \"<em>sector<em>\" as in the circuit below\n"
   ]
  },
  {
   "attachments": {
    "sector_circuit-2.png": {
     "image/png": "[encoded data removed]"
    }
   },
   "cell_type": "markdown",
   "id": "422cb75d",
   "metadata": {},
   "source": [
    "![sector_circuit-2.png](attachment:sector_circuit-2.png)\n",
    "<br>\n",
    "<div align=\"center\">Figure 1 Circuit Divided by Sectors</div>"
   ]
  },
  {
   "cell_type": "markdown",
   "id": "66672ece",
   "metadata": {},
   "source": [
    "The resultant Matrix for each sector is then calculated by performing the Kronecker product on each component's unitary matrix representation\n",
    "\n",
    "The standard method performs the calculation starting at the topmost component and ending at the bottom component **however** due to Qiskit's Least and Most Significant convention the opposite applies\n"
   ]
  },
  {
   "cell_type": "markdown",
   "id": "5a8306ad",
   "metadata": {},
   "source": [
    "## Figure 1 Example Calculations\n"
   ]
  },
  {
   "cell_type": "markdown",
   "id": "c5bdcb25",
   "metadata": {},
   "source": [
    "### Sector 1\n",
    "\n",
    "$$H = \\frac{1}{\\sqrt{2}} \\begin{bmatrix} 1 & 1 \\\\ 1 & -1 \\end{bmatrix}$$ <br>\n",
    "<div align=\"center\">The Hadamard Gate </div> <br>\n",
    "\n",
    "and\n",
    "\n",
    "$$C = \\begin{bmatrix} 1 & 0 & 0 & 0 \\\\ 0 & 0 & 0 & 1 \\\\ 0 & 0 & 1 & 0 \\\\ 0 & 1 & 0 & 0\\end{bmatrix}$$\n",
    "<br><div align=\"center\">CNOT Gate</div>\n",
    "\n",
    "Kronecker product:\n",
    "\n",
    "\n",
    "$$ \n",
    "H \\otimes C = \n",
    "\\begin{bmatrix}\n",
    "\\tfrac{1}{\\sqrt{2}} & 0 & 0 & 0 & \\tfrac{1}{\\sqrt{2}} & 0 & 0 & 0  \\\\\n",
    "0 & 0 & 0 & \\tfrac{1}{\\sqrt{2}} & 0 & 0 & 0 & \\tfrac{1}{\\sqrt{2}}  \\\\\n",
    "0 & 0 & \\tfrac{1}{\\sqrt{2}} & 0 & 0 & 0 & \\tfrac{1}{\\sqrt{2}} & 0  \\\\\n",
    "0 & \\tfrac{1}{\\sqrt{2}} & 0 & 0 & 0 & \\tfrac{1}{\\sqrt{2}} & 0 & 0  \\\\\n",
    "\\tfrac{1}{\\sqrt{2}} & 0 & 0 & 0 & -\\tfrac{1}{\\sqrt{2}} & 0 & 0 & 0  \\\\\n",
    "0 & 0 & 0 & \\tfrac{1}{\\sqrt{2}} & 0 & 0 & 0 & -\\tfrac{1}{\\sqrt{2}}  \\\\\n",
    "0 & 0 & \\tfrac{1}{\\sqrt{2}} & 0 & 0 & 0 & -\\tfrac{1}{\\sqrt{2}} & 0  \\\\\n",
    "0 & \\tfrac{1}{\\sqrt{2}} & 0 & 0 & 0 & -\\tfrac{1}{\\sqrt{2}} & 0 & 0  \\\\\n",
    "\\end{bmatrix}\n",
    "$$\n",
    "\n",
    "<div align=\"center\">Matrix A</div>\n",
    "\n"
   ]
  },
  {
   "cell_type": "markdown",
   "id": "f93c7016",
   "metadata": {},
   "source": [
    "### Sector 2\n",
    "<br>\n",
    "$$C = \\begin{bmatrix} 1 & 0 & 0 & 0 \\\\ 0 & 0 & 0 & 1 \\\\ 0 & 0 & 1 & 0 \\\\ 0 & 1 & 0 & 0\\end{bmatrix}$$\n",
    "<br><div align=\"center\">CNOT Gate</div>\n",
    "\n",
    "and for when there is no component: \n",
    "\n",
    "<br>$$\\text{I$_{2}$= } \\begin{bmatrix}\n",
    "1 & 0  \\\\\n",
    "0 & 1  \\\\\n",
    "\\end{bmatrix}$$\n",
    "<br><div align=\"center\">Second Order Identity Matrix</div>\n",
    "\n",
    "Kronecker product:\n",
    "$$ C \\otimes  \\text{I$_{2}$} =  \\begin{bmatrix}\n",
    "1 & 0 & 0 & 0 & 0 & 0 & 0 & 0  \\\\\n",
    "0 & 1 & 0 & 0 & 0 & 0 & 0 & 0  \\\\\n",
    "0 & 0 & 0 & 0 & 0 & 0 & 1 & 0  \\\\\n",
    "0 & 0 & 0 & 0 & 0 & 0 & 0 & 1  \\\\\n",
    "0 & 0 & 0 & 0 & 1 & 0 & 0 & 0  \\\\\n",
    "0 & 0 & 0 & 0 & 0 & 1 & 0 & 0  \\\\\n",
    "0 & 0 & 1 & 0 & 0 & 0 & 0 & 0  \\\\\n",
    "0 & 0 & 0 & 1 & 0 & 0 & 0 & 0  \\\\\n",
    "\\end{bmatrix}$$\n",
    "<div align=\"center\">Matrix B</div>"
   ]
  },
  {
   "cell_type": "markdown",
   "id": "fef6c70a",
   "metadata": {},
   "source": [
    "### Unitary Representation of Total System\n",
    " <br>\n",
    "$$BA = \\begin{bmatrix}\n",
    "\\tfrac{1}{\\sqrt{2}} & 0 & 0 & 0 & \\tfrac{1}{\\sqrt{2}} & 0 & 0 & 0  \\\\\n",
    "0 & 0 & 0 & \\tfrac{1}{\\sqrt{2}} & 0 & 0 & 0 & \\tfrac{1}{\\sqrt{2}}  \\\\\n",
    "0 & 0 & \\tfrac{1}{\\sqrt{2}} & 0 & 0 & 0 & \\tfrac{1}{\\sqrt{2}} & 0  \\\\\n",
    "0 & \\tfrac{1}{\\sqrt{2}} & 0 & 0 & 0 & \\tfrac{1}{\\sqrt{2}} & 0 & 0  \\\\\n",
    "\\tfrac{1}{\\sqrt{2}} & 0 & 0 & 0 & -\\tfrac{1}{\\sqrt{2}} & 0 & 0 & 0  \\\\\n",
    "0 & 0 & 0 & \\tfrac{1}{\\sqrt{2}} & 0 & 0 & 0 & -\\tfrac{1}{\\sqrt{2}}  \\\\\n",
    "0 & 0 & \\tfrac{1}{\\sqrt{2}} & 0 & 0 & 0 & -\\tfrac{1}{\\sqrt{2}} & 0  \\\\\n",
    "0 & \\tfrac{1}{\\sqrt{2}} & 0 & 0 & 0 & -\\tfrac{1}{\\sqrt{2}} & 0 & 0  \\\\\n",
    "\\end{bmatrix} \\begin{bmatrix}\n",
    "1 & 0 & 0 & 0 & 0 & 0 & 0 & 0  \\\\\n",
    "0 & 1 & 0 & 0 & 0 & 0 & 0 & 0  \\\\\n",
    "0 & 0 & 0 & 0 & 0 & 0 & 1 & 0  \\\\\n",
    "0 & 0 & 0 & 0 & 0 & 0 & 0 & 1  \\\\\n",
    "0 & 0 & 0 & 0 & 1 & 0 & 0 & 0  \\\\\n",
    "0 & 0 & 0 & 0 & 0 & 1 & 0 & 0  \\\\\n",
    "0 & 0 & 1 & 0 & 0 & 0 & 0 & 0  \\\\\n",
    "0 & 0 & 0 & 1 & 0 & 0 & 0 & 0  \\\\\n",
    "\\end{bmatrix}\n",
    "$$\n",
    "\n",
    "<br>\n",
    "\n",
    "$$BA = \\begin{bmatrix}\n",
    " \\tfrac{1}{\\sqrt{2}} & 0 & 0 & 0 & \\tfrac{1}{\\sqrt{2}} & 0 & 0 & 0  \\\\\n",
    "0 & 0 & 0 & \\tfrac{1}{\\sqrt{2}} & 0 & 0 & 0 & \\tfrac{1}{\\sqrt{2}}  \\\\\n",
    "0 & 0 & \\tfrac{1}{\\sqrt{2}} & 0 & 0 & 0 & -\\tfrac{1}{\\sqrt{2}} & 0  \\\\\n",
    "0 & \\tfrac{1}{\\sqrt{2}} & 0 & 0 & 0 & -\\tfrac{1}{\\sqrt{2}} & 0 & 0  \\\\\n",
    "\\tfrac{1}{\\sqrt{2}} & 0 & 0 & 0 & -\\tfrac{1}{\\sqrt{2}} & 0 & 0 & 0  \\\\\n",
    "0 & 0 & 0 & \\tfrac{1}{\\sqrt{2}} & 0 & 0 & 0 & -\\tfrac{1}{\\sqrt{2}}  \\\\\n",
    "0 & 0 & \\tfrac{1}{\\sqrt{2}} & 0 & 0 & 0 & \\tfrac{1}{\\sqrt{2}} & 0  \\\\\n",
    "0 & \\tfrac{1}{\\sqrt{2}} & 0 & 0 & 0 & \\tfrac{1}{\\sqrt{2}} & 0 & 0  \\\\\n",
    "\\end{bmatrix}$$\n",
    "\n",
    "<br>"
   ]
  },
  {
   "cell_type": "markdown",
   "id": "9ec50c17",
   "metadata": {},
   "source": [
    "## \"<em>UPSIDE DOWN<em>\" CNOT gates\n",
    "<br>\n",
    "These CNOT gates refer to when the Control Bit of the CNOT gate is below the Target Bit\n",
    "\n",
    "\n",
    "Due to Qiskit's Least and Most Significant Bit Convention the standard CNOT matrix can be used\n",
    "\n",
    "<br>\n",
    "$$C = \\begin{bmatrix} 1 & 0 & 0 & 0 \\\\ 0 & 1 & 0 & 0 \\\\ 0 & 0 & 0 & 1 \\\\ 0 & 0 & 1 & 0\\end{bmatrix}$$\n",
    "    \n",
    "<br>\n",
    "\n",
    "For the purposed of the lab, this is only significant as the standard formula for a CNOT gate whose control bit is n bits separated from it's target bit applies to the <em>upside down<em> CNOT gate in the CNOT ring "
   ]
  },
  {
   "cell_type": "markdown",
   "id": "3be941d8",
   "metadata": {},
   "source": [
    "## Control Gate of n Bits of Separation\n",
    "The Unitary matrix formula for CNOT gates of **n** bits of separation:\n",
    "\n",
    "<br>\n",
    "$$\\begin{bmatrix} \\text{I$_{N/2}$} & \\text{O$_{N/2}$}\\\\ \\text{O$_{N/2}$} & \\text{I$_{N/4}$} \\otimes X \\end{bmatrix}$$\n",
    "\n",
    "where\n",
    "\n",
    "<div align=\"center\">N = $2^{n+1}$</div>\n",
    "\n",
    "and \n",
    "\n",
    "$$\\text{X = } \\begin{bmatrix}\n",
    "0 & 1  \\\\\n",
    "1 & 0  \\\\\n",
    "\\end{bmatrix}$$\n",
    "<br>\n",
    "<div align=\"center\"> The X Gate </div>"
   ]
  },
  {
   "attachments": {
    "upside%20down.png": {
     "image/png": "[encoded data removed]"
    }
   },
   "cell_type": "markdown",
   "id": "8a144528",
   "metadata": {},
   "source": [
    "## Example\n",
    "\n",
    "In Figure 1 we have an <em> upside down <em> Control Gate separated by 2 bits<br><br>\n",
    "\n",
    "\n",
    "![upside%20down.png](attachment:upside%20down.png)\n",
    "<br>\n",
    "<div align=\"center\">Figure 2 Control Gate of 2 Bits of Separation</div>\n",
    "\n",
    "<br>\n",
    "    using the standard formula\n",
    "$$n = 2$$\n",
    "and\n",
    "    $$N = 2^{2+1} = 8$$\n",
    "therefore\n",
    "    <br>\n",
    "$$\\text{ the system unitary matrix} = \\begin{bmatrix} \\text{I$_{4}$} & \\text{O$_{4}$}\\\\ \\text{O$_{4}$} & \\text{I$_{2}$} \\otimes X \\end{bmatrix}$$\n",
    "    resulting in\n",
    "    \n",
    "$$\n",
    "\\begin{bmatrix}\n",
    "1 & 0 & 0 & 0 & 0 & 0 & 0 & 0  \\\\\n",
    "0 & 1 & 0 & 0 & 0 & 0 & 0 & 0  \\\\\n",
    "0 & 0 & 1 & 0 & 0 & 0 & 0 & 0  \\\\\n",
    "0 & 0 & 0 & 1 & 0 & 0 & 0 & 0  \\\\\n",
    "0 & 0 & 0 & 0 & 0 & 1 & 0 & 0  \\\\\n",
    "0 & 0 & 0 & 0 & 1 & 0 & 0 & 0  \\\\\n",
    "0 & 0 & 0 & 0 & 0 & 0 & 0 & 1  \\\\\n",
    "0 & 0 & 0 & 0 & 0 & 0 & 1 & 0  \\\\\n",
    "\\end{bmatrix}$$"
   ]
  },
  {
   "cell_type": "markdown",
   "id": "e335f88b",
   "metadata": {},
   "source": [
    "These Methods will be used to generate the Unitary Matrix representation for 5 and 10 bit CNOT rings "
   ]
  },
  {
   "cell_type": "markdown",
   "id": "5c7c4766",
   "metadata": {},
   "source": [
    "## SIMULATOR"
   ]
  },
  {
   "cell_type": "code",
   "execution_count": 9,
   "id": "e14e1b43",
   "metadata": {},
   "outputs": [],
   "source": [
    "usim = Aer.get_backend('unitary_simulator')"
   ]
  },
  {
   "cell_type": "markdown",
   "id": "1e502f77",
   "metadata": {},
   "source": [
    "Basic Entangler Function for Comparison"
   ]
  },
  {
   "cell_type": "code",
   "execution_count": 10,
   "id": "2abb4008",
   "metadata": {},
   "outputs": [],
   "source": [
    "def BasicEntangler(circ):\n",
    "    no_wires = len(circ.qubits) - 1\n",
    "    if no_wires > 1:\n",
    "        for i in range(no_wires):\n",
    "            circ.cx(i, i+1)\n",
    "        circ.cx(no_wires,0)"
   ]
  },
  {
   "cell_type": "markdown",
   "id": "8a112a68",
   "metadata": {},
   "source": [
    "CNOT Gate Seperated by n bits Function"
   ]
  },
  {
   "cell_type": "code",
   "execution_count": 11,
   "id": "cda5e7a0",
   "metadata": {},
   "outputs": [],
   "source": [
    "def Cx_Sep(n):\n",
    "    N = 2**(n+1)\n",
    "    temp1 = np.identity(int(N/2), dtype = float)\n",
    "    temp1 = np.vstack((temp1,np.zeros([int(N/2), int(N/2)])))\n",
    "    temp2 = np.zeros([int(N/2), int(N/2)])\n",
    "    temp2 = np.vstack((temp2, np.kron(np.identity(int(N/4), dtype = float), X)))\n",
    "    T = np.hstack((temp1,temp2))\n",
    "    return T"
   ]
  },
  {
   "cell_type": "markdown",
   "id": "f6038eee",
   "metadata": {},
   "source": [
    "### 5 Qubit CNOT Ring"
   ]
  },
  {
   "cell_type": "code",
   "execution_count": 12,
   "id": "a25b4cdc",
   "metadata": {},
   "outputs": [],
   "source": [
    "no_wires = 5\n",
    "ring = QuantumCircuit(no_wires)\n",
    "BasicEntangler(ring)"
   ]
  },
  {
   "cell_type": "markdown",
   "id": "838b709b",
   "metadata": {},
   "source": [
    "5 qubit CNOT Ring Circuit "
   ]
  },
  {
   "cell_type": "code",
   "execution_count": 13,
   "id": "696a7ea1",
   "metadata": {},
   "outputs": [
    {
     "data": {
      "image/png": "[encoded data removed]",
      "text/plain": [
       "<Figure size 387.597x325.08 with 1 Axes>"
      ]
     },
     "execution_count": 13,
     "metadata": {},
     "output_type": "execute_result"
    }
   ],
   "source": [
    "ring.draw('mpl', True)"
   ]
  },
  {
   "cell_type": "markdown",
   "id": "f9d2cc03",
   "metadata": {},
   "source": [
    "UNITARY MATRIX FOR TOTAL SYSTEM"
   ]
  },
  {
   "cell_type": "code",
   "execution_count": 14,
   "id": "7f7e5908",
   "metadata": {},
   "outputs": [],
   "source": [
    "qobj = assemble(ring)\n",
    "R = usim.run(qobj).result().get_unitary()"
   ]
  },
  {
   "cell_type": "markdown",
   "id": "86880935",
   "metadata": {},
   "source": [
    "### UNITARY MATRIX CALCULATIONS FOR EACH \"SECTOR\""
   ]
  },
  {
   "cell_type": "markdown",
   "id": "a6d260a8",
   "metadata": {},
   "source": [
    "#### Sector 1"
   ]
  },
  {
   "cell_type": "code",
   "execution_count": 15,
   "id": "a34dd4ac",
   "metadata": {},
   "outputs": [
    {
     "data": {
      "image/png": "[encoded data removed]",
      "text/plain": [
       "<Figure size 146.797x325.08 with 1 Axes>"
      ]
     },
     "execution_count": 15,
     "metadata": {},
     "output_type": "execute_result"
    }
   ],
   "source": [
    "section1 = QuantumCircuit(5)\n",
    "section1.cx(0,1)\n",
    "qobj = assemble(section1)\n",
    "A = usim.run(qobj).result().get_unitary()\n",
    "\n",
    "section1.draw('mpl',True)"
   ]
  },
  {
   "cell_type": "code",
   "execution_count": 16,
   "id": "8ec65560",
   "metadata": {},
   "outputs": [
    {
     "name": "stdout",
     "output_type": "stream",
     "text": [
      "resultant matrix = simulated matrix for sector\n"
     ]
    }
   ],
   "source": [
    "A2 = np.kron(I, I)\n",
    "A2 = np.kron(A2, I)\n",
    "A2 = np.kron(A2, Cx)\n",
    "if np.array_equal(A, A2) == True: print(\"resultant matrix = simulated matrix for sector\")"
   ]
  },
  {
   "cell_type": "markdown",
   "id": "f0dbd1a0",
   "metadata": {},
   "source": [
    "#### Sector 2"
   ]
  },
  {
   "cell_type": "code",
   "execution_count": 17,
   "id": "190c071a",
   "metadata": {},
   "outputs": [
    {
     "data": {
      "image/png": "[encoded data removed]",
      "text/plain": [
       "<Figure size 146.797x325.08 with 1 Axes>"
      ]
     },
     "execution_count": 17,
     "metadata": {},
     "output_type": "execute_result"
    }
   ],
   "source": [
    "section2 = QuantumCircuit(5)\n",
    "section2.cx(1,2)\n",
    "qobj = assemble(section2)\n",
    "B = usim.run(qobj).result().get_unitary()\n",
    "section2.draw('mpl',True)"
   ]
  },
  {
   "cell_type": "code",
   "execution_count": 18,
   "id": "156c8f8e",
   "metadata": {},
   "outputs": [
    {
     "name": "stdout",
     "output_type": "stream",
     "text": [
      "resultant matrix = simulated matrix for sector\n"
     ]
    }
   ],
   "source": [
    "B2 = np.kron(I, I)\n",
    "B2 = np.kron(B2, Cx)\n",
    "B2 = np.kron(B2, I)\n",
    "if np.array_equal(B, B2) == True: print(\"resultant matrix = simulated matrix for sector\")"
   ]
  },
  {
   "cell_type": "markdown",
   "id": "859d8666",
   "metadata": {},
   "source": [
    "#### Sector 3"
   ]
  },
  {
   "cell_type": "code",
   "execution_count": 19,
   "id": "d8271bdc",
   "metadata": {},
   "outputs": [
    {
     "data": {
      "image/png": "[encoded data removed]",
      "text/plain": [
       "<Figure size 146.797x325.08 with 1 Axes>"
      ]
     },
     "execution_count": 19,
     "metadata": {},
     "output_type": "execute_result"
    }
   ],
   "source": [
    "section3 = QuantumCircuit(5)\n",
    "section3.cx(2,3)\n",
    "qobj = assemble(section3)\n",
    "C = usim.run(qobj).result().get_unitary()\n",
    "section3.draw('mpl',True)"
   ]
  },
  {
   "cell_type": "code",
   "execution_count": 20,
   "id": "6b2cbe84",
   "metadata": {},
   "outputs": [
    {
     "name": "stdout",
     "output_type": "stream",
     "text": [
      "resultant matrix = simulated matrix for sector\n"
     ]
    }
   ],
   "source": [
    "C2 = np.kron(I, Cx)\n",
    "C2 = np.kron(C2, I)\n",
    "C2 = np.kron(C2, I)\n",
    "if np.array_equal(C, C2) == True: print(\"resultant matrix = simulated matrix for sector\")"
   ]
  },
  {
   "cell_type": "markdown",
   "id": "206758c2",
   "metadata": {},
   "source": [
    "#### Sector 4"
   ]
  },
  {
   "cell_type": "code",
   "execution_count": 21,
   "id": "d9c727f2",
   "metadata": {},
   "outputs": [
    {
     "data": {
      "image/png": "[encoded data removed]",
      "text/plain": [
       "<Figure size 146.797x325.08 with 1 Axes>"
      ]
     },
     "execution_count": 21,
     "metadata": {},
     "output_type": "execute_result"
    }
   ],
   "source": [
    "section4 = QuantumCircuit(5)\n",
    "section4.cx(3,4)\n",
    "qobj = assemble(section4)\n",
    "D = usim.run(qobj).result().get_unitary()\n",
    "section4.draw('mpl',True)"
   ]
  },
  {
   "cell_type": "code",
   "execution_count": 22,
   "id": "0fecbc92",
   "metadata": {},
   "outputs": [
    {
     "name": "stdout",
     "output_type": "stream",
     "text": [
      "resultant matrix = simulated matrix for sector\n"
     ]
    }
   ],
   "source": [
    "D2 = np.kron(Cx, I)\n",
    "D2 = np.kron(D2, I)\n",
    "D2 = np.kron(D2, I)\n",
    "if np.array_equal(D, D2) == True: print(\"resultant matrix = simulated matrix for sector\")"
   ]
  },
  {
   "cell_type": "markdown",
   "id": "56e6a4e3",
   "metadata": {},
   "source": [
    "#### Sector 5"
   ]
  },
  {
   "cell_type": "code",
   "execution_count": 23,
   "id": "2878e8db",
   "metadata": {},
   "outputs": [
    {
     "data": {
      "image/png": "[encoded data removed]",
      "text/plain": [
       "<Figure size 146.797x325.08 with 1 Axes>"
      ]
     },
     "execution_count": 23,
     "metadata": {},
     "output_type": "execute_result"
    }
   ],
   "source": [
    "section5 = QuantumCircuit(5)\n",
    "section5.cx(4,0)\n",
    "qobj = assemble(section5)\n",
    "E = usim.run(qobj).result().get_unitary()\n",
    "section5.draw('mpl',True)"
   ]
  },
  {
   "cell_type": "code",
   "execution_count": 24,
   "id": "8bbb5edc",
   "metadata": {},
   "outputs": [
    {
     "name": "stdout",
     "output_type": "stream",
     "text": [
      "resultant matrix = simulated matrix for sector\n"
     ]
    }
   ],
   "source": [
    "E2 = Cx_Sep(4);\n",
    "if np.array_equal(E2, E) == True: print(\"resultant matrix = simulated matrix for sector\")"
   ]
  },
  {
   "cell_type": "code",
   "execution_count": 25,
   "id": "01fec0bb",
   "metadata": {},
   "outputs": [
    {
     "data": {
      "image/png": "[encoded data removed]",
      "text/plain": [
       "<Figure size 387.597x325.08 with 1 Axes>"
      ]
     },
     "execution_count": 25,
     "metadata": {},
     "output_type": "execute_result"
    }
   ],
   "source": [
    "circ = section1.compose(section2.compose(section3.compose(section4.compose(section5))))\n",
    "circ.draw('mpl', True)"
   ]
  },
  {
   "cell_type": "markdown",
   "id": "33b713c7",
   "metadata": {},
   "source": [
    "#### Resultant System Matrix Comparison"
   ]
  },
  {
   "cell_type": "code",
   "execution_count": 26,
   "id": "57a6b008",
   "metadata": {
    "scrolled": true
   },
   "outputs": [
    {
     "name": "stdout",
     "output_type": "stream",
     "text": [
      "resultant matrix = simulated matrix\n"
     ]
    }
   ],
   "source": [
    "\n",
    "if np.array_equal(E2@D2@C2@B2@A2, R) == True: print(\"resultant matrix = simulated matrix\")"
   ]
  },
  {
   "cell_type": "markdown",
   "id": "8ffd073c",
   "metadata": {},
   "source": [
    "### 10 Qubit CNOT Ring\n",
    "For this section the sector seperation will be condensed for readability - as it follows the same method as in the 5 Qubit CNOT Ring Simulation"
   ]
  },
  {
   "cell_type": "code",
   "execution_count": 27,
   "id": "ea50a448",
   "metadata": {},
   "outputs": [],
   "source": [
    "no_wires = 10\n",
    "ring = QuantumCircuit(no_wires)\n",
    "BasicEntangler(ring)"
   ]
  },
  {
   "cell_type": "code",
   "execution_count": 28,
   "id": "692a6e52",
   "metadata": {},
   "outputs": [
    {
     "data": {
      "image/png": "[encoded data removed]",
      "text/plain": [
       "<Figure size 688.597x626.08 with 1 Axes>"
      ]
     },
     "execution_count": 28,
     "metadata": {},
     "output_type": "execute_result"
    }
   ],
   "source": [
    "ring.draw('mpl', True)"
   ]
  },
  {
   "cell_type": "markdown",
   "id": "5841a265",
   "metadata": {},
   "source": [
    "UNITARY MATRIX FOR TOTAL SYSTEM"
   ]
  },
  {
   "cell_type": "code",
   "execution_count": 29,
   "id": "4f9fc84b",
   "metadata": {},
   "outputs": [],
   "source": [
    "qobj = assemble(ring)\n",
    "R = usim.run(qobj).result().get_unitary()"
   ]
  },
  {
   "cell_type": "markdown",
   "id": "6c0a8ca3",
   "metadata": {},
   "source": [
    "#### Sector 1"
   ]
  },
  {
   "cell_type": "code",
   "execution_count": 30,
   "id": "e055740f",
   "metadata": {},
   "outputs": [],
   "source": [
    "A = np.kron(I, I)\n",
    "for i in range(6):\n",
    "    A = np.kron(A, I)\n",
    "A = np.kron(A, Cx)"
   ]
  },
  {
   "cell_type": "markdown",
   "id": "2870fe41",
   "metadata": {},
   "source": [
    "#### Sector 2"
   ]
  },
  {
   "cell_type": "code",
   "execution_count": 31,
   "id": "c9db70ea",
   "metadata": {},
   "outputs": [],
   "source": [
    "B = np.kron(I, I)\n",
    "for i in range(5):\n",
    "    B = np.kron(B, I)\n",
    "B = np.kron(B, Cx)\n",
    "B = np.kron(B, I)"
   ]
  },
  {
   "cell_type": "markdown",
   "id": "93919b2b",
   "metadata": {},
   "source": [
    "#### Sector 3"
   ]
  },
  {
   "cell_type": "code",
   "execution_count": 32,
   "id": "8c8cfea9",
   "metadata": {},
   "outputs": [],
   "source": [
    "C = np.kron(I, I)\n",
    "for i in range(4):\n",
    "    C = np.kron(C, I)\n",
    "C = np.kron(C, Cx)\n",
    "C = np.kron(C, I)\n",
    "C = np.kron(C, I)"
   ]
  },
  {
   "cell_type": "markdown",
   "id": "74847993",
   "metadata": {},
   "source": [
    "#### Sector 4"
   ]
  },
  {
   "cell_type": "code",
   "execution_count": 33,
   "id": "76ec4953",
   "metadata": {},
   "outputs": [],
   "source": [
    "D = np.kron(I, I)\n",
    "for i in range(3):\n",
    "    D = np.kron(D, I)\n",
    "D = np.kron(D, Cx)\n",
    "for i in range(3):\n",
    "    D = np.kron(D, I)"
   ]
  },
  {
   "cell_type": "markdown",
   "id": "0689ad95",
   "metadata": {},
   "source": [
    "#### Sector 5"
   ]
  },
  {
   "cell_type": "code",
   "execution_count": 34,
   "id": "93244b8f",
   "metadata": {},
   "outputs": [],
   "source": [
    "E = np.kron(I, I)\n",
    "for i in range(2):\n",
    "    E = np.kron(E, I)\n",
    "E = np.kron(E, Cx)\n",
    "for i in range(4):\n",
    "    E = np.kron(E, I)"
   ]
  },
  {
   "cell_type": "markdown",
   "id": "4171c76b",
   "metadata": {},
   "source": [
    "#### Sector 6"
   ]
  },
  {
   "cell_type": "code",
   "execution_count": 35,
   "id": "809095dd",
   "metadata": {},
   "outputs": [],
   "source": [
    "F = np.kron(I, I)\n",
    "F = np.kron(F, I)\n",
    "F = np.kron(F, Cx)\n",
    "for i in range(5):\n",
    "    F = np.kron(F, I)"
   ]
  },
  {
   "cell_type": "markdown",
   "id": "9ca334ef",
   "metadata": {},
   "source": [
    "#### Sector 7"
   ]
  },
  {
   "cell_type": "code",
   "execution_count": 36,
   "id": "0d524948",
   "metadata": {},
   "outputs": [],
   "source": [
    "G = np.kron(I, I)\n",
    "G = np.kron(G, Cx)\n",
    "for i in range(6):\n",
    "    G = np.kron(G, I)"
   ]
  },
  {
   "cell_type": "markdown",
   "id": "b29bcbf1",
   "metadata": {},
   "source": [
    "#### Sector 8"
   ]
  },
  {
   "cell_type": "code",
   "execution_count": 37,
   "id": "79fdfacf",
   "metadata": {},
   "outputs": [],
   "source": [
    "H = np.kron(I, Cx)\n",
    "for i in range(7):\n",
    "    H = np.kron(H, I)"
   ]
  },
  {
   "cell_type": "markdown",
   "id": "c1ff7f11",
   "metadata": {},
   "source": [
    "#### Sector 9"
   ]
  },
  {
   "cell_type": "code",
   "execution_count": 38,
   "id": "11a19cac",
   "metadata": {},
   "outputs": [],
   "source": [
    "J = Cx\n",
    "for i in range(8):\n",
    "    J = np.kron(J, I)"
   ]
  },
  {
   "cell_type": "markdown",
   "id": "6fe89d74",
   "metadata": {},
   "source": [
    "#### Sector 10"
   ]
  },
  {
   "cell_type": "code",
   "execution_count": 39,
   "id": "270f4f47",
   "metadata": {},
   "outputs": [],
   "source": [
    "K = Cx_Sep(9)"
   ]
  },
  {
   "cell_type": "markdown",
   "id": "761c48e5",
   "metadata": {},
   "source": [
    "#### Resultant System Matrix Comparison"
   ]
  },
  {
   "cell_type": "code",
   "execution_count": 40,
   "id": "15f0f3ae",
   "metadata": {},
   "outputs": [
    {
     "name": "stdout",
     "output_type": "stream",
     "text": [
      "resultant matrix = simulated matrix\n"
     ]
    }
   ],
   "source": [
    "if np.array_equal(K@J@H@G@F@E@D@C@B@A, R) == True: print(\"resultant matrix = simulated matrix\")"
   ]
  }
 ],
 "metadata": {
  "kernelspec": {
   "display_name": "Python 3",
   "language": "python",
   "name": "python3"
  },
  "language_info": {
   "codemirror_mode": {
    "name": "ipython",
    "version": 3
   },
   "file_extension": ".py",
   "mimetype": "text/x-python",
   "name": "python",
   "nbconvert_exporter": "python",
   "pygments_lexer": "ipython3",
   "version": "3.8.5"
  }
 },
 "nbformat": 4,
 "nbformat_minor": 5
}
